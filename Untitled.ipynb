{
 "cells": [
  {
   "cell_type": "code",
   "execution_count": null,
   "metadata": {},
   "outputs": [],
   "source": [
    "import random\n",
    "\n",
    "import matplotlib.pyplot as plt\n",
    "import numpy\n",
    "import pandas\n",
    "import sklearn.cluster\n",
    "\n",
    "%matplotlib inline\n",
    "plt.rcParams['figure.figsize'] = [16, 5]\n",
    "plt.style.use('bmh')\n",
    "# plt.style.available"
   ]
  },
  {
   "cell_type": "code",
   "execution_count": null,
   "metadata": {},
   "outputs": [],
   "source": [
    "data_file = \"longleaf_job_data_fy2018_res.csv\"\n",
    "n = 1000  # every N line, or random select of 1 / nth the size\n",
    "\n",
    "num_lines = sum(1 for l in open(data_file))\n",
    "sample_size = int(num_lines / n)\n",
    "\n",
    "# skip_index = [x for x in range(1, num_lines) if x % n != 0] # every N lines\n",
    "skip_index = random.sample(range(1, num_lines), num_lines - sample_size)  # random sample\n",
    "\n",
    "df = pandas.read_csv(data_file, sep='|', skiprows=skip_index)\n",
    "len(df)"
   ]
  },
  {
   "cell_type": "code",
   "execution_count": null,
   "metadata": {
    "scrolled": true
   },
   "outputs": [],
   "source": [
    "# Clean Data \n",
    "\n",
    "\n",
    "# select SUM((cpus_req*(time_end - time_start)/3600)) AS sum_cpu_time,SUM((IF(mem_req > 2147483648, IF(mem_req > 9223372036854775808, mem_req-9223372036854775808, mem_req-2147483648), mem_req)/1024)*((time_end - time_start)/3600)) as sum_mem_time  from longleaf_job_table WHERE time_start != 0 AND (time_start > 1498881600 AND time_start < 1517461200) AND (time_end > time_start) AND ((HOUR(FROM_UNIXTIME(((time_start + time_end)/2), '%H:%i:%s')) >= 9 AND HOUR(FROM_UNIXTIME(((time_start + time_end)/2), '%H:%i:%s')) <= 17) OR (HOUR(FROM_UNIXTIME(((time_start + time_end)*(3/4)), '%H:%i:%s')) >= 9 AND HOUR(FROM_UNIXTIME(((time_start + time_end)*(3/4)), '%H:%i:%s')) <= 17) OR (HOUR(FROM_UNIXTIME(((time_start + time_end)/4), '%H:%i:%s')) >= 9 AND HOUR(FROM_UNIXTIME(((time_start + time_end)/4), '%H:%i:%s')) <= 17)) AND ((DAYOFWEEK(FROM_UNIXTIME(((time_start + time_end)/2), '%Y-%m-%d %H:%i:%s')) > 1 AND DAYOFWEEK(FROM_UNIXTIME(((time_start + time_end)/2), '%Y-%m-%d %H:%i:%s')) < 7 ) OR (DAYOFWEEK(FROM_UNIXTIME(((time_start + time_end)*(3/4)), '%Y-%m-%d %H:%i:%s')) > 1 AND DAYOFWEEK(FROM_UNIXTIME(((time_start + time_end)*(3/4)), '%Y-%m-%d %H:%i:%s')) < 7 ) OR (DAYOFWEEK(FROM_UNIXTIME(((time_start + time_end)/4), '%Y-%m-%d %H:%i:%s')) > 1 AND DAYOFWEEK(FROM_UNIXTIME(((time_start + time_end)/4), '%Y-%m-%d %H:%i:%s')) < 7 ))\n",
    "df['mem_req_mod'] = df['mem_req'].apply(lambda x: x - 9223372036854775808 if x > 9223372036854775808 else (x - 2147483648 if x > 2147483648 else x))\n",
    "df['mem_req_mod'] = df['mem_req_mod'] / 1024\n",
    "\n",
    "df['cpus_per_node'] = df['cpus_req'] / df['nodes_alloc']\n",
    "\n",
    "df['run_time_hrs'] = (df['time_end'] - df['time_start']) / 3600\n",
    "df['timelimit_hrs'] = df['timelimit'] / 60\n",
    "\n",
    "df = df[df['mem_req_mod'] <= 3000]\n",
    "df = df[df['time_start'] > 0]\n",
    "df = df[(df['time_end'] - df['time_start']) > 4]\n",
    "df.head()"
   ]
  },
  {
   "cell_type": "code",
   "execution_count": null,
   "metadata": {},
   "outputs": [],
   "source": [
    "jitter_cpus = df['cpus_per_node'] + numpy.random.normal(1, 0.4, len(df))\n",
    "jitter_mem = df['mem_req_mod'] + numpy.random.normal(1, 0.4, len(df))\n",
    "plt.scatter(jitter_cpus, jitter_mem, alpha=.2)"
   ]
  },
  {
   "cell_type": "code",
   "execution_count": null,
   "metadata": {
    "scrolled": true
   },
   "outputs": [],
   "source": [
    "df[['cpus_req','cpus_per_node', 'mem_req_mod', 'timelimit_hrs', 'run_time_hrs']].describe()  "
   ]
  },
  {
   "cell_type": "code",
   "execution_count": null,
   "metadata": {},
   "outputs": [],
   "source": [
    "# Look only at \"general\" partition\n",
    "general_df = df.where(df['partition'] == 'general').dropna()\n",
    "general_df[['cpus_req', 'cpus_per_node', 'mem_req_mod', 'timelimit_hrs']].describe()"
   ]
  },
  {
   "cell_type": "code",
   "execution_count": null,
   "metadata": {},
   "outputs": [],
   "source": [
    "jitter_cpus = general_df['cpus_per_node'] + numpy.random.normal(1, 0.4, len(general_df))\n",
    "jitter_mem = general_df['mem_req_mod'] + numpy.random.normal(1, 0.4, len(general_df))\n",
    "plt.scatter(jitter_cpus, jitter_mem, alpha=.2)"
   ]
  },
  {
   "cell_type": "code",
   "execution_count": null,
   "metadata": {},
   "outputs": [],
   "source": [
    "general_df['mem_req_mod'].plot(kind='hist', bins=40, density=True) \n",
    "#df['mem_req_mod'].hist(cumulative=True, histtype='step', density=1, bins=100)"
   ]
  },
  {
   "cell_type": "code",
   "execution_count": null,
   "metadata": {},
   "outputs": [],
   "source": [
    "Nc = range(1,10)\n",
    "\n",
    "X = numpy.array(list(zip(general_df['cpus_per_node'], general_df['mem_req_mod'])))\n",
    "\n",
    "# kmeans = [sklearn.cluster.KMeans(n_clusters=i) for i in Nc]\n",
    "# score = [kmeans[i].fit(X).score(X) for i in range(len(kmeans))]\n",
    "# plt.plot(Nc,  score, 'x')\n",
    "\n",
    "from scipy.spatial.distance import cdist\n",
    "d = []\n",
    "for n in Nc:\n",
    "    kmeans = sklearn.cluster.KMeans(n_clusters=n).fit(X)\n",
    "    #d.append(sum(numpy.min(cdist(X, kmeanModel.cluster_centers_, 'euclidean'), axis=1)) / X.shape[0])\n",
    "    d.append(kmeans.inertia_)\n",
    "plt.plot(Nc, d, 'x-')"
   ]
  },
  {
   "cell_type": "code",
   "execution_count": null,
   "metadata": {
    "scrolled": false
   },
   "outputs": [],
   "source": [
    "kmeans = sklearn.cluster.KMeans(n_clusters=3).fit(X)\n",
    "labels = kmeans.predict(X)\n",
    "C = kmeans.cluster_centers_\n",
    "\n",
    "jitter_cpus = general_df['cpus_per_node'] + numpy.random.normal(1, 0.4, len(general_df))\n",
    "jitter_mem = general_df['mem_req_mod'] + numpy.random.normal(1, 0.4, len(general_df))\n",
    "plt.scatter(jitter_cpus, jitter_mem, alpha=.2, c=labels)\n",
    "plt.scatter(C[:, 0], C[:, 1], marker='*', c='#050505', s=500)"
   ]
  },
  {
   "cell_type": "code",
   "execution_count": null,
   "metadata": {},
   "outputs": [],
   "source": [
    "general_df['labels'] = labels\n",
    "general_df.groupby('labels').sum()"
   ]
  },
  {
   "cell_type": "code",
   "execution_count": null,
   "metadata": {},
   "outputs": [],
   "source": [
    "from mpl_toolkits.mplot3d import Axes3D"
   ]
  },
  {
   "cell_type": "code",
   "execution_count": null,
   "metadata": {},
   "outputs": [],
   "source": [
    "ax = Axes3D(plt.figure())\n",
    "ax.scatter(general_df['cpus_per_node'], general_df['mem_req_mod'], general_df['timelimit_hrs'])"
   ]
  },
  {
   "cell_type": "code",
   "execution_count": null,
   "metadata": {},
   "outputs": [],
   "source": [
    "Nc = range(1,10)\n",
    "\n",
    "X = numpy.array(list(zip(general_df['cpus_per_node'], general_df['mem_req_mod'], general_df['run_time_hrs'])))\n",
    "\n",
    "# kmeans = [sklearn.cluster.KMeans(n_clusters=i) for i in Nc]\n",
    "# score = [kmeans[i].fit(X).score(X) for i in range(len(kmeans))]\n",
    "# plt.plot(Nc,  score, 'x')\n",
    "\n",
    "from scipy.spatial.distance import cdist\n",
    "d = []\n",
    "for n in Nc:\n",
    "    kmeans = sklearn.cluster.KMeans(n_clusters=n).fit(X)\n",
    "    #d.append(sum(numpy.min(cdist(X, kmeanModel.cluster_centers_, 'euclidean'), axis=1)) / X.shape[0])\n",
    "    d.append(kmeans.inertia_)\n",
    "plt.plot(Nc, d, 'x-')"
   ]
  },
  {
   "cell_type": "code",
   "execution_count": null,
   "metadata": {},
   "outputs": [],
   "source": [
    "kmeans = sklearn.cluster.KMeans(n_clusters=5).fit(X)\n",
    "labels = kmeans.predict(X)\n",
    "C = kmeans.cluster_centers_\n",
    "\n",
    "jitter_cpus = general_df['cpus_per_node'] + numpy.random.normal(1, 0.4, len(general_df))\n",
    "jitter_mem = general_df['mem_req_mod'] + numpy.random.normal(1, 0.4, len(general_df))\n",
    "jitter_time = general_df['timelimit_hrs'] + numpy.random.normal(1, 0.4, len(general_df))\n",
    "\n",
    "ax = Axes3D(plt.figure())\n",
    "\n",
    "ax.scatter(jitter_cpus, jitter_mem, jitter_time, alpha=.2, c=labels)\n",
    "ax.scatter(C[:, 0], C[:, 1], C[:,2], marker='*', c='#050505', s=500)"
   ]
  },
  {
   "cell_type": "code",
   "execution_count": null,
   "metadata": {},
   "outputs": [],
   "source": [
    "general_df['labels'] = labels\n",
    "general_df.groupby('labels').sum()"
   ]
  },
  {
   "cell_type": "code",
   "execution_count": null,
   "metadata": {},
   "outputs": [],
   "source": []
  },
  {
   "cell_type": "code",
   "execution_count": null,
   "metadata": {},
   "outputs": [],
   "source": [
    "from sklearn.preprocessing import StandardScaler\n",
    "\n",
    "features = ['cpus_per_node', 'mem_req_mod', 'run_time_hrs']\n",
    "\n",
    "# Separating out the features\n",
    "x = general_df.loc[:, features].values\n",
    "\n",
    "# Separating out the target\n",
    "#y = general_df.loc[:,['target']].values\n",
    "\n",
    "# Standardizing the features\n",
    "xx = StandardScaler().fit_transform(x)\n",
    "general_df = pandas.DataFrame(data=xx, columns=features)"
   ]
  },
  {
   "cell_type": "code",
   "execution_count": null,
   "metadata": {},
   "outputs": [],
   "source": [
    "from sklearn.decomposition import PCA\n",
    "\n",
    "pca = PCA(n_components=3)\n",
    "\n",
    "pc = pca.fit_transform(xx)\n",
    "\n",
    "p_df = pandas.DataFrame(data = pc, columns = ['pc1','pc2','pc3'])\n",
    "p_df.head()"
   ]
  },
  {
   "cell_type": "code",
   "execution_count": null,
   "metadata": {},
   "outputs": [],
   "source": [
    "jitter_pc1 = p_df['pc2'] + numpy.random.normal(1, 0.4, len(general_df))\n",
    "jitter_pc2 = p_df['pc3'] + numpy.random.normal(1, 0.4, len(general_df))\n",
    "plt.scatter(jitter_pc1, jitter_pc2, alpha=.2)"
   ]
  },
  {
   "cell_type": "code",
   "execution_count": null,
   "metadata": {},
   "outputs": [],
   "source": [
    "sum(pca.explained_variance_ratio_) * 100"
   ]
  },
  {
   "cell_type": "code",
   "execution_count": null,
   "metadata": {},
   "outputs": [],
   "source": [
    "general_df.head()"
   ]
  },
  {
   "cell_type": "code",
   "execution_count": null,
   "metadata": {},
   "outputs": [],
   "source": []
  }
 ],
 "metadata": {
  "kernelspec": {
   "display_name": "Python 3",
   "language": "python",
   "name": "python3"
  },
  "language_info": {
   "codemirror_mode": {
    "name": "ipython",
    "version": 3
   },
   "file_extension": ".py",
   "mimetype": "text/x-python",
   "name": "python",
   "nbconvert_exporter": "python",
   "pygments_lexer": "ipython3",
   "version": "3.6.5"
  }
 },
 "nbformat": 4,
 "nbformat_minor": 2
}
